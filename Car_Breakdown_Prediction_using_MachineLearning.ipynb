{
 "cells": [
  {
   "cell_type": "markdown",
   "metadata": {},
   "source": [
    "# Car breakdown prediction\n",
    "\n",
    "We have a fleet of automatic cars of same make & model. Since the drivers don't own the cars, they driver it abusively, which causes more wear and tear. All cars are equipped with sensors to provide the sate of the car on a daily basis (1 reading / day).\n",
    "\n",
    "\n",
    "1. **Driving Mode sensors:**\n",
    "The car has 3 different driving modes(Auto, City, Sports), which can be selected only once by the driver on a daily basis. The sensors though are not discrete and is captured as 3 different real numbers, captured as **ecoMode, cityMode, sportsMode**\n",
    "\n",
    "2. **Engine Sensors**: \n",
    "Every is equipped with 21 different kind of sensors. (E.g. engine-rpm, engine-oil level, ac temperature, battery voltage, ...), captured as **s1, s2, s3, ..., s21**"
   ]
  },
  {
   "cell_type": "markdown",
   "metadata": {},
   "source": [
    "## Dataset\n",
    "\n",
    "[Car breakdown dataset](car_breakdown_data.ipynb)"
   ]
  },
  {
   "cell_type": "markdown",
   "metadata": {},
   "source": [
    "# What to predict ?\n",
    "\n",
    "Given a timeseries data for every **vehicleId** and the day of failure. Can we predict that the break down is going to happen withing 30 days."
   ]
  },
  {
   "cell_type": "markdown",
   "metadata": {},
   "source": [
    "## Expectations from the project\n",
    "\n",
    "* Implementation with a decent accuracy, e.g. 70%\n",
    "* Checkin the code to github, and email the link\n",
    "* README.md should capture your approach of implementation\n",
    "* Document various other techniques which can be used to address the problem, given only the data which is provided in this project."
   ]
  },
  {
   "cell_type": "code",
   "execution_count": 1,
   "metadata": {},
   "outputs": [],
   "source": [
    "%load_ext autoreload\n",
    "%autoreload 2\n",
    "%matplotlib inline"
   ]
  },
  {
   "cell_type": "code",
   "execution_count": 2,
   "metadata": {},
   "outputs": [],
   "source": [
    "import pandas as pd\n",
    "import numpy as np\n",
    "import itertools\n",
    "from sklearn import preprocessing\n",
    "import matplotlib.pyplot as plt\n",
    "from sklearn.metrics import confusion_matrix, classification_report\n",
    "from sklearn.preprocessing import MinMaxScaler, StandardScaler"
   ]
  },
  {
   "cell_type": "code",
   "execution_count": 3,
   "metadata": {},
   "outputs": [],
   "source": [
    "%matplotlib inline"
   ]
  },
  {
   "cell_type": "code",
   "execution_count": 4,
   "metadata": {},
   "outputs": [],
   "source": [
    "train_data = pd.read_csv('data/car_breakdown_train.tsv', sep='\\t', header=0)"
   ]
  },
  {
   "cell_type": "code",
   "execution_count": 5,
   "metadata": {},
   "outputs": [],
   "source": [
    "test_data = pd.read_csv('data/car_breakdown_test.tsv', sep='\\t', header=0)"
   ]
  },
  {
   "cell_type": "code",
   "execution_count": 6,
   "metadata": {},
   "outputs": [],
   "source": [
    "test_truth_data = pd.read_csv('data/car_breakdown_test_truth.tsv', sep='\\t', header=0)"
   ]
  },
  {
   "cell_type": "code",
   "execution_count": 7,
   "metadata": {},
   "outputs": [],
   "source": [
    "train_data['days_to_failure']=train_data.groupby(['vehicleId'])['days'].transform(max)-train_data['days']"
   ]
  },
  {
   "cell_type": "code",
   "execution_count": 8,
   "metadata": {},
   "outputs": [],
   "source": [
    "train_data['target'] = np.where(train_data['days_to_failure'] <= 30, 1, 0 )"
   ]
  },
  {
   "cell_type": "code",
   "execution_count": 9,
   "metadata": {},
   "outputs": [],
   "source": [
    "test_truth_data = test_truth_data.set_index(test_truth_data.index + 1)\n",
    "test_truth_data['maximum_day'] = test_data.groupby('vehicleId')['days'].max() + test_truth_data['RUL']\n",
    "test_data['days_to_failure'] = [test_truth_data['maximum_day'][i] for i in test_data.vehicleId] - test_data['days']"
   ]
  },
  {
   "cell_type": "code",
   "execution_count": 10,
   "metadata": {},
   "outputs": [],
   "source": [
    "test_data['target'] = np.where(test_data['days_to_failure'] <= 30, 1, 0 )"
   ]
  },
  {
   "cell_type": "code",
   "execution_count": 11,
   "metadata": {},
   "outputs": [],
   "source": [
    "#Min-max scaler\n",
    "def scale(df):\n",
    "    return (df - df.min())/(df.max()-df.min())"
   ]
  },
  {
   "cell_type": "code",
   "execution_count": 12,
   "metadata": {},
   "outputs": [],
   "source": [
    "for col in train_data.columns:\n",
    "    if col[0] == 's':\n",
    "        train_data[col] = scale(train_data[col])\n",
    "        \n",
    "train_data = train_data.dropna(axis=1)"
   ]
  },
  {
   "cell_type": "code",
   "execution_count": 13,
   "metadata": {},
   "outputs": [],
   "source": [
    "for col in test_data.columns:\n",
    "    if col[0] == 's':\n",
    "        test_data[col] = scale(test_data[col])\n",
    "test_data = test_data.dropna(axis=1)"
   ]
  },
  {
   "cell_type": "code",
   "execution_count": 14,
   "metadata": {},
   "outputs": [],
   "source": [
    "X_train = train_data[train_data.columns[2:-2]]\n",
    "Y_train = train_data[train_data.columns[-1]]\n",
    "X_test = test_data[test_data.columns[2:-2]]\n",
    "Y_test = test_data[test_data.columns[-1]]"
   ]
  },
  {
   "cell_type": "markdown",
   "metadata": {},
   "source": [
    "## Solution 1 - Using Logistic Regression"
   ]
  },
  {
   "cell_type": "code",
   "execution_count": 15,
   "metadata": {},
   "outputs": [
    {
     "name": "stdout",
     "output_type": "stream",
     "text": [
      "Model accurace score on testing data is (in percentage)  0.8836285888821014\n"
     ]
    }
   ],
   "source": [
    "from sklearn.linear_model import LogisticRegression\n",
    "    \n",
    "lr = LogisticRegression() # ovr = one (class) versus rest (of classes)\n",
    "lr.fit(X_train, Y_train)\n",
    "\n",
    "score = lr.score(X_test, Y_test)\n",
    "print(\"Model accurace score on testing data is (in percentage) \", score)"
   ]
  },
  {
   "cell_type": "markdown",
   "metadata": {},
   "source": [
    "## Solution 2 - Using Support Vector Machine"
   ]
  },
  {
   "cell_type": "code",
   "execution_count": 16,
   "metadata": {},
   "outputs": [
    {
     "name": "stdout",
     "output_type": "stream",
     "text": [
      "Fitting 5 folds for each of 3 candidates, totalling 15 fits\n"
     ]
    },
    {
     "name": "stderr",
     "output_type": "stream",
     "text": [
      "[Parallel(n_jobs=-1)]: Done  15 out of  15 | elapsed:   46.4s finished\n"
     ]
    },
    {
     "name": "stdout",
     "output_type": "stream",
     "text": [
      "Best model estimators:  Pipeline(memory=None,\n",
      "     steps=[('standardize', StandardScaler(copy=True, with_mean=True, with_std=True)), ('model', SVR(C=1, cache_size=200, coef0=0.0, degree=3, epsilon=0.05, gamma='auto',\n",
      "  kernel='rbf', max_iter=-1, shrinking=True, tol=0.001, verbose=False))])\n",
      "SVM Mean Squared Error:  0.0833437429736549\n",
      "SVM Mean Absolute Error:  0.15756094092945133\n",
      "SVM r-squared:  -2.373070779107931\n"
     ]
    }
   ],
   "source": [
    "from sklearn import svm\n",
    "from sklearn.svm import SVR\n",
    "svm = svm.SVR()\n",
    "\n",
    "from sklearn import model_selection\n",
    "cv = model_selection.KFold(5)\n",
    "\n",
    "from sklearn.pipeline import Pipeline\n",
    "pipeline = Pipeline(steps=[('standardize', preprocessing.StandardScaler())\n",
    "                           , ('model', svm) ])\n",
    "\n",
    "# model parameters\n",
    "param_C = [1]\n",
    "param_epsilon = [.05, .1, .15]\n",
    "\n",
    "#select the best model using GridSearch\n",
    "\n",
    "from sklearn.model_selection import GridSearchCV\n",
    "svm_model = GridSearchCV(estimator=pipeline,\n",
    "                             cv=cv, \n",
    "                             param_grid =dict(model__C = param_C, model__epsilon = param_epsilon),\n",
    "                             scoring = 'neg_mean_squared_error',\n",
    "                             verbose = 1,\n",
    "                             n_jobs = -1)\n",
    "\n",
    "svm_model.fit(X_train, Y_train)\n",
    "\n",
    "print(\"Best model estimators: \", svm_model.best_estimator_)\n",
    "\n",
    "# metrics on holdout\n",
    "\n",
    "from sklearn.metrics import mean_squared_error, mean_absolute_error, r2_score\n",
    "y_pred = svm_model.predict(X_test)\n",
    "print(\"SVM Mean Squared Error: \", mean_squared_error(Y_test, y_pred))\n",
    "print(\"SVM Mean Absolute Error: \", mean_absolute_error(Y_test, y_pred))\n",
    "print(\"SVM r-squared: \", r2_score(Y_test, y_pred))"
   ]
  },
  {
   "cell_type": "markdown",
   "metadata": {},
   "source": [
    "## Solution 3 - Using Gradient Boosting"
   ]
  },
  {
   "cell_type": "code",
   "execution_count": 17,
   "metadata": {},
   "outputs": [
    {
     "name": "stdout",
     "output_type": "stream",
     "text": [
      "Fitting 5 folds for each of 18 candidates, totalling 90 fits\n"
     ]
    },
    {
     "name": "stderr",
     "output_type": "stream",
     "text": [
      "/home/iadi7ya/anaconda3/lib/python3.7/site-packages/sklearn/ensemble/weight_boosting.py:29: DeprecationWarning: numpy.core.umath_tests is an internal NumPy module and should not be imported. It will be removed in a future NumPy release.\n",
      "  from numpy.core.umath_tests import inner1d\n",
      "[Parallel(n_jobs=-1)]: Done  42 tasks      | elapsed:  6.2min\n",
      "[Parallel(n_jobs=-1)]: Done  90 out of  90 | elapsed: 12.6min finished\n"
     ]
    },
    {
     "name": "stdout",
     "output_type": "stream",
     "text": [
      "Pipeline(memory=None,\n",
      "     steps=[('standardize', StandardScaler(copy=True, with_mean=True, with_std=True)), ('model', GradientBoostingRegressor(alpha=0.5, criterion='friedman_mse', init=None,\n",
      "             learning_rate=0.01, loss='ls', max_depth=4, max_features=None,\n",
      "             max_leaf_nodes=None, min_impurity_decrease=0....s=500, presort='auto', random_state=None,\n",
      "             subsample=1.0, verbose=0, warm_start=False))])\n",
      "Gradient Boosting Mean Squared Error:  0.07172772034399538\n",
      "Gradient Boosting Mean Absolute Error:  0.14646514921524403\n",
      "Gradient Boosting r-squared:  -1.90294950660945\n"
     ]
    }
   ],
   "source": [
    "from sklearn.ensemble import GradientBoostingRegressor\n",
    "gbr = GradientBoostingRegressor()\n",
    "\n",
    "from sklearn import model_selection\n",
    "cv = model_selection.KFold(5)\n",
    "\n",
    "from sklearn.pipeline import Pipeline\n",
    "pipeline = Pipeline(steps=[('standardize', preprocessing.StandardScaler()), ('model', gbr) ])\n",
    "\n",
    "# model parameters\n",
    "param_alpha = [.5, .75, .9]\n",
    "param_nestimators= [500]\n",
    "param_learningrate = [0.005, .01]\n",
    "param_maxdepth = [4, 5, 6]\n",
    "\n",
    "# select the best model with GridSearch\n",
    "from sklearn.model_selection import GridSearchCV\n",
    "gbr_model = GridSearchCV(estimator=pipeline,\n",
    "                            cv=cv,\n",
    "                            param_grid =dict(model__max_depth = param_maxdepth, model__n_estimators = param_nestimators,\n",
    "                                              model__learning_rate = param_learningrate, model__alpha = param_alpha),\n",
    "                            scoring = 'neg_mean_squared_error',\n",
    "                            verbose = 1,\n",
    "                            n_jobs = -1\n",
    "                           )\n",
    "gbr_model.fit(X_train, Y_train)\n",
    "# est model estimators\n",
    "print(gbr_model.best_estimator_)\n",
    "\n",
    "# evaluate metrics\n",
    "from sklearn.metrics import mean_squared_error, mean_absolute_error, r2_score\n",
    "y_pred = gbr_model.predict(X_test)\n",
    "\n",
    "print(\"Gradient Boosting Mean Squared Error: \", mean_squared_error(Y_test, y_pred))\n",
    "print(\"Gradient Boosting Mean Absolute Error: \", mean_absolute_error(Y_test, y_pred))\n",
    "print(\"Gradient Boosting r-squared: \", r2_score(Y_test, y_pred))"
   ]
  },
  {
   "cell_type": "markdown",
   "metadata": {},
   "source": [
    "## Solution 3 - Using Random Forest"
   ]
  },
  {
   "cell_type": "code",
   "execution_count": 18,
   "metadata": {},
   "outputs": [
    {
     "name": "stdout",
     "output_type": "stream",
     "text": [
      "Fitting 5 folds for each of 12 candidates, totalling 60 fits\n"
     ]
    },
    {
     "name": "stderr",
     "output_type": "stream",
     "text": [
      "[Parallel(n_jobs=-1)]: Done  42 tasks      | elapsed:    6.3s\n",
      "[Parallel(n_jobs=-1)]: Done  60 out of  60 | elapsed:    9.2s finished\n"
     ]
    },
    {
     "name": "stdout",
     "output_type": "stream",
     "text": [
      "Pipeline(memory=None,\n",
      "     steps=[('standardize', StandardScaler(copy=True, with_mean=True, with_std=True)), ('model', RandomForestClassifier(bootstrap=True, class_weight=None, criterion='gini',\n",
      "            max_depth=10, max_features='auto', max_leaf_nodes=None,\n",
      "            min_impurity_decrease=0.0, min_impurity_split=None,\n",
      "...n_jobs=1,\n",
      "            oob_score=False, random_state=None, verbose=0,\n",
      "            warm_start=False))])\n"
     ]
    }
   ],
   "source": [
    "from sklearn.ensemble import RandomForestClassifier\n",
    "rf = RandomForestClassifier()\n",
    "\n",
    "from sklearn import model_selection\n",
    "cv = model_selection.KFold(5)\n",
    "\n",
    "from sklearn.pipeline import Pipeline\n",
    "pipeline = Pipeline(steps=[('standardize', preprocessing.StandardScaler()), ('model', rf) ])\n",
    "\n",
    "# model parameters\n",
    "param_minsamples_leaf = [2, 25, 50]\n",
    "param_maxdepth = [8, 9, 10, 12]\n",
    "\n",
    "# Best model using GridSearch\n",
    "from sklearn.model_selection import GridSearchCV\n",
    "rf_model = GridSearchCV(estimator=pipeline,\n",
    "                            cv=cv,\n",
    "                            param_grid =dict(model__min_samples_leaf = param_minsamples_leaf, model__max_depth = param_maxdepth),\n",
    "                            scoring = 'roc_auc',\n",
    "                            verbose = 1,\n",
    "                            n_jobs = -1,\n",
    "                           )\n",
    "rf_model.fit(X_train, Y_train)\n",
    "\n",
    "# Best model estimators\n",
    "y_pred_proba = rf_model.predict_proba(X_test)[:, 1]\n",
    "y_pred = rf_model.predict(X_test)\n",
    "print(rf_model.best_estimator_)"
   ]
  },
  {
   "cell_type": "code",
   "execution_count": 19,
   "metadata": {},
   "outputs": [
    {
     "name": "stdout",
     "output_type": "stream",
     "text": [
      "Confusion Matrix:\n",
      "[[11945   819]\n",
      " [   15   317]]\n",
      "Random Forest Accuracy: 93.6%\n",
      "Random Forest Precision: 27.9%\n",
      "Random Forest Recall: 95.5%\n",
      "Classification Report:\n",
      "             precision    recall  f1-score   support\n",
      "\n",
      "          0       1.00      0.94      0.97     12764\n",
      "          1       0.28      0.95      0.43       332\n",
      "\n",
      "avg / total       0.98      0.94      0.95     13096\n",
      "\n"
     ]
    },
    {
     "data": {
      "image/png": "[encoded data removed]",
      "text/plain": [
       "<Figure size 432x288 with 1 Axes>"
      ]
     },
     "metadata": {
      "needs_background": "light"
     },
     "output_type": "display_data"
    }
   ],
   "source": [
    "from sklearn.metrics import roc_auc_score, accuracy_score, precision_score, recall_score, confusion_matrix\n",
    "print(\"Confusion Matrix:\")\n",
    "print(confusion_matrix(Y_test, y_pred))\n",
    "from sklearn.metrics import classification_report\n",
    "print(\"Random Forest Accuracy: \"+\"{:.1%}\".format(accuracy_score(Y_test, y_pred)));\n",
    "print(\"Random Forest Precision: \"+\"{:.1%}\".format(precision_score(Y_test, y_pred)));\n",
    "print(\"Random Forest Recall: \"+\"{:.1%}\".format(recall_score(Y_test, y_pred)));\n",
    "print(\"Classification Report:\")\n",
    "print(classification_report(Y_test, y_pred))\n",
    "from sklearn import metrics\n",
    "fpr, tpr, threshold = metrics.roc_curve(Y_test, y_pred_proba)\n",
    "roc_auc = metrics.auc(fpr, tpr)\n",
    "import matplotlib.pyplot as plt\n",
    "plt.title('Receiver Operating Characteristic')\n",
    "plt.plot(fpr, tpr, 'b', label = 'AUC = %0.2f' % roc_auc)\n",
    "plt.legend(loc = 'lower right')\n",
    "plt.plot([0, 1], [0, 1],'r--')\n",
    "plt.xlim([0, 1])\n",
    "plt.ylim([0, 1])\n",
    "plt.ylabel('True Positive Rate')\n",
    "plt.xlabel('False Positive Rate')\n",
    "plt.show()"
   ]
  }
 ],
 "metadata": {
  "kernelspec": {
   "display_name": "Python 3",
   "language": "python",
   "name": "python3"
  },
  "language_info": {
   "codemirror_mode": {
    "name": "ipython",
    "version": 3
   },
   "file_extension": ".py",
   "mimetype": "text/x-python",
   "name": "python",
   "nbconvert_exporter": "python",
   "pygments_lexer": "ipython3",
   "version": "3.7.4"
  }
 },
 "nbformat": 4,
 "nbformat_minor": 2
}
